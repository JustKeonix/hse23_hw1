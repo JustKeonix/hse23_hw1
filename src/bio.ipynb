{
 "cells": [
  {
   "cell_type": "code",
   "execution_count": 6,
   "outputs": [],
   "source": [
    "def parse_fasta(filename):\n",
    "    contigs = []\n",
    "    with open(filename, 'r') as fasta_file:\n",
    "        lines = fasta_file.readlines()\n",
    "        current_contig = ''\n",
    "        for line in lines:\n",
    "            if line.startswith('>'):\n",
    "                if current_contig:\n",
    "                    contigs.append(current_contig)\n",
    "                current_contig = {'header': line.strip(), 'sequence': ''}\n",
    "            else:\n",
    "                current_contig['sequence'] += line.strip()\n",
    "        if current_contig:\n",
    "            contigs.append(current_contig)\n",
    "    return contigs"
   ],
   "metadata": {
    "collapsed": false,
    "ExecuteTime": {
     "end_time": "2023-10-08T18:57:59.504376494Z",
     "start_time": "2023-10-08T18:57:59.328814801Z"
    }
   },
   "id": "2b880517109d19c6"
  },
  {
   "cell_type": "code",
   "execution_count": 9,
   "outputs": [],
   "source": [
    "def calculate_metrics(contigs):\n",
    "    total_contigs = len(contigs)\n",
    "    total_length = sum(len(contig['sequence']) for contig in contigs)\n",
    "    longest_contig = max(len(contig['sequence']) for contig in contigs)\n",
    "    contig_lengths = sorted(len(contig['sequence']) for contig in contigs)\n",
    "    n50_index = total_length // 2\n",
    "    current_length = 0\n",
    "    n50 = 0\n",
    "\n",
    "    for length in contig_lengths:\n",
    "        current_length += length\n",
    "        if current_length >= n50_index:\n",
    "            n50 = length\n",
    "            break\n",
    "\n",
    "    return total_contigs, total_length, longest_contig, n50"
   ],
   "metadata": {
    "collapsed": false,
    "ExecuteTime": {
     "end_time": "2023-10-08T18:58:09.779895507Z",
     "start_time": "2023-10-08T18:58:09.723009923Z"
    }
   },
   "id": "cb79c63bf1f4a2"
  },
  {
   "cell_type": "code",
   "execution_count": 1,
   "outputs": [],
   "source": [
    "# File path for the FASTA file\n",
    "fasta_file_path = \"Pxut_contig.fa\""
   ],
   "metadata": {
    "collapsed": false,
    "ExecuteTime": {
     "end_time": "2023-10-08T18:56:37.446713643Z",
     "start_time": "2023-10-08T18:56:37.425228771Z"
    }
   },
   "id": "76c7cd67b404d7"
  },
  {
   "cell_type": "code",
   "execution_count": 7,
   "outputs": [],
   "source": [
    "# Parse the FASTA file\n",
    "contigs = parse_fasta(fasta_file_path)"
   ],
   "metadata": {
    "collapsed": false,
    "ExecuteTime": {
     "end_time": "2023-10-08T18:58:04.084294499Z",
     "start_time": "2023-10-08T18:58:03.940631735Z"
    }
   },
   "id": "3cc8e443b5022334"
  },
  {
   "cell_type": "code",
   "execution_count": 11,
   "outputs": [],
   "source": [
    "# Calculate metrics\n",
    "total_contigs, total_length, longest_contig, n50 = calculate_metrics(contigs)"
   ],
   "metadata": {
    "collapsed": false,
    "ExecuteTime": {
     "end_time": "2023-10-08T18:58:17.466403131Z",
     "start_time": "2023-10-08T18:58:17.451627894Z"
    }
   },
   "id": "3d7544506545e386"
  },
  {
   "cell_type": "code",
   "execution_count": 12,
   "outputs": [
    {
     "data": {
      "text/plain": "(608, 3924881, 179307, 47797)"
     },
     "execution_count": 12,
     "metadata": {},
     "output_type": "execute_result"
    }
   ],
   "source": [
    "# Display the metrics\n",
    "total_contigs, total_length, longest_contig, n50"
   ],
   "metadata": {
    "collapsed": false,
    "ExecuteTime": {
     "end_time": "2023-10-08T18:58:19.573149155Z",
     "start_time": "2023-10-08T18:58:19.513109149Z"
    }
   },
   "id": "eab884379315c223"
  }
 ],
 "metadata": {
  "kernelspec": {
   "display_name": "Python 3",
   "language": "python",
   "name": "python3"
  },
  "language_info": {
   "codemirror_mode": {
    "name": "ipython",
    "version": 2
   },
   "file_extension": ".py",
   "mimetype": "text/x-python",
   "name": "python",
   "nbconvert_exporter": "python",
   "pygments_lexer": "ipython2",
   "version": "2.7.6"
  }
 },
 "nbformat": 4,
 "nbformat_minor": 5
}
