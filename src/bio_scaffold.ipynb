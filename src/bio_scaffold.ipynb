{
 "cells": [
  {
   "cell_type": "code",
   "execution_count": 52,
   "outputs": [],
   "source": [
    "def parse_fasta(filename):\n",
    "    contigs = []\n",
    "    with open(filename, 'r') as fasta_file:\n",
    "        lines = fasta_file.readlines()\n",
    "        current_contig = ''\n",
    "        for line in lines:\n",
    "            if line.startswith('>'):\n",
    "                if current_contig:\n",
    "                    contigs.append(current_contig)\n",
    "                current_contig = {'header': line.strip(), 'sequence': ''}\n",
    "            else:\n",
    "                current_contig['sequence'] += line.strip()\n",
    "        if current_contig:\n",
    "            contigs.append(current_contig)\n",
    "    return contigs"
   ],
   "metadata": {
    "collapsed": false,
    "ExecuteTime": {
     "end_time": "2023-10-08T20:10:17.900525073Z",
     "start_time": "2023-10-08T20:10:17.842974207Z"
    }
   },
   "id": "2b880517109d19c6"
  },
  {
   "cell_type": "code",
   "execution_count": 53,
   "outputs": [],
   "source": [
    "def calculate_metrics(contigs):\n",
    "    total_contigs = len(contigs)\n",
    "    total_length = sum(len(contig['sequence']) for contig in contigs)\n",
    "    longest_contig = max(len(contig['sequence']) for contig in contigs)\n",
    "    contig_lengths = sorted(len(contig['sequence']) for contig in contigs)\n",
    "    n50_index = total_length // 2\n",
    "    current_length = 0\n",
    "    n50 = 0\n",
    "\n",
    "    for length in contig_lengths:\n",
    "        current_length += length\n",
    "        if current_length >= n50_index:\n",
    "            n50 = length\n",
    "            break\n",
    "\n",
    "    return total_contigs, total_length, longest_contig, n50"
   ],
   "metadata": {
    "collapsed": false,
    "ExecuteTime": {
     "end_time": "2023-10-08T20:10:19.765021962Z",
     "start_time": "2023-10-08T20:10:19.750575060Z"
    }
   },
   "id": "cb79c63bf1f4a2"
  },
  {
   "cell_type": "code",
   "execution_count": 78,
   "outputs": [],
   "source": [
    "def calculate_gap_metrics(longest_scaffold):\n",
    "    gaps = 0\n",
    "    total_n = 0\n",
    "    current_gap = False\n",
    "\n",
    "    for char in longest_scaffold:\n",
    "        if char == 'N':\n",
    "            total_n += 1\n",
    "            if not current_gap:\n",
    "                current_gap = True\n",
    "                gaps += 1\n",
    "        else:\n",
    "            current_gap = False\n",
    "\n",
    "    return gaps, total_n"
   ],
   "metadata": {
    "collapsed": false,
    "ExecuteTime": {
     "end_time": "2023-10-08T20:15:54.966035358Z",
     "start_time": "2023-10-08T20:15:54.640843501Z"
    }
   },
   "id": "2690bb67a994a098"
  },
  {
   "cell_type": "code",
   "execution_count": 86,
   "outputs": [],
   "source": [
    "# File path for the scaffold FASTA file\n",
    "scaffold_file_path = \"Pxut_gapClosed.fa\""
   ],
   "metadata": {
    "collapsed": false,
    "ExecuteTime": {
     "end_time": "2023-10-08T20:17:21.824529532Z",
     "start_time": "2023-10-08T20:17:21.639870717Z"
    }
   },
   "id": "76c7cd67b404d7"
  },
  {
   "cell_type": "code",
   "execution_count": 87,
   "outputs": [],
   "source": [
    "# Parse the scaffold FASTA file\n",
    "scaffolds = parse_fasta(scaffold_file_path)"
   ],
   "metadata": {
    "collapsed": false,
    "ExecuteTime": {
     "end_time": "2023-10-08T20:17:36.738508352Z",
     "start_time": "2023-10-08T20:17:22.106578845Z"
    }
   },
   "id": "3cc8e443b5022334"
  },
  {
   "cell_type": "code",
   "execution_count": 88,
   "outputs": [],
   "source": [
    "# Find the longest scaffold\n",
    "longest_scaffold = max(scaffolds, key=lambda scaffold: len(scaffold['sequence']))['sequence']"
   ],
   "metadata": {
    "collapsed": false,
    "ExecuteTime": {
     "end_time": "2023-10-08T20:17:36.747465034Z",
     "start_time": "2023-10-08T20:17:36.742065342Z"
    }
   },
   "id": "ddaff338bfa8a459"
  },
  {
   "cell_type": "code",
   "execution_count": 89,
   "outputs": [],
   "source": [
    "# Calculate metrics for scaffolds\n",
    "total_scaffolds, total_scaffold_length, longest_scaffold_length, n50_scaffold = calculate_metrics(scaffolds)"
   ],
   "metadata": {
    "collapsed": false,
    "ExecuteTime": {
     "end_time": "2023-10-08T20:17:36.968922946Z",
     "start_time": "2023-10-08T20:17:36.790078823Z"
    }
   },
   "id": "3d7544506545e386"
  },
  {
   "cell_type": "code",
   "execution_count": 90,
   "outputs": [],
   "source": [
    "# Calculate additional gap metrics for the longest scaffold\n",
    "num_gaps, total_gap_length = calculate_gap_metrics(longest_scaffold)"
   ],
   "metadata": {
    "collapsed": false,
    "ExecuteTime": {
     "end_time": "2023-10-08T20:17:37.419731493Z",
     "start_time": "2023-10-08T20:17:36.971899959Z"
    }
   },
   "id": "306f2dd58dec87d6"
  },
  {
   "cell_type": "code",
   "execution_count": 91,
   "outputs": [
    {
     "data": {
      "text/plain": "(67, 3922240, 3880490, 3880490)"
     },
     "execution_count": 91,
     "metadata": {},
     "output_type": "execute_result"
    }
   ],
   "source": [
    "# Display the metrics\n",
    "total_scaffolds, total_scaffold_length, longest_scaffold_length, n50_scaffold"
   ],
   "metadata": {
    "collapsed": false,
    "ExecuteTime": {
     "end_time": "2023-10-08T20:17:37.590599112Z",
     "start_time": "2023-10-08T20:17:37.422786725Z"
    }
   },
   "id": "eab884379315c223"
  },
  {
   "cell_type": "code",
   "execution_count": 92,
   "outputs": [
    {
     "data": {
      "text/plain": "(9, 1526)"
     },
     "execution_count": 92,
     "metadata": {},
     "output_type": "execute_result"
    }
   ],
   "source": [
    "num_gaps, total_gap_length"
   ],
   "metadata": {
    "collapsed": false,
    "ExecuteTime": {
     "end_time": "2023-10-08T20:17:37.874654767Z",
     "start_time": "2023-10-08T20:17:37.584689505Z"
    }
   },
   "id": "af0c89ec4957c49d"
  },
  {
   "cell_type": "code",
   "execution_count": null,
   "outputs": [],
   "source": [],
   "metadata": {
    "collapsed": false
   },
   "id": "a829b304e193f568"
  }
 ],
 "metadata": {
  "kernelspec": {
   "display_name": "Python 3",
   "language": "python",
   "name": "python3"
  },
  "language_info": {
   "codemirror_mode": {
    "name": "ipython",
    "version": 2
   },
   "file_extension": ".py",
   "mimetype": "text/x-python",
   "name": "python",
   "nbconvert_exporter": "python",
   "pygments_lexer": "ipython2",
   "version": "2.7.6"
  }
 },
 "nbformat": 4,
 "nbformat_minor": 5
}
